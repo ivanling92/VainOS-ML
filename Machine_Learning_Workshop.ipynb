{
  "nbformat": 4,
  "nbformat_minor": 0,
  "metadata": {
    "colab": {
      "name": "Machine Learning Workshop.ipynb",
      "private_outputs": true,
      "provenance": [],
      "collapsed_sections": [],
      "authorship_tag": "ABX9TyOOa9mZF3Fnbg4XmJVgIeGB",
      "include_colab_link": true
    },
    "kernelspec": {
      "name": "python3",
      "display_name": "Python 3"
    },
    "language_info": {
      "name": "python"
    }
  },
  "cells": [
    {
      "cell_type": "markdown",
      "metadata": {
        "id": "view-in-github",
        "colab_type": "text"
      },
      "source": [
        "<a href=\"https://colab.research.google.com/github/ivanling92/VainOS-ML/blob/master/Machine_Learning_Workshop.ipynb\" target=\"_parent\"><img src=\"https://colab.research.google.com/assets/colab-badge.svg\" alt=\"Open In Colab\"/></a>"
      ]
    },
    {
      "cell_type": "code",
      "source": [
        "#@title Licensed under the Apache License, Version 2.0 (the \"License\");\n",
        "# you may not use this file except in compliance with the License.\n",
        "# You may obtain a copy of the License at\n",
        "#\n",
        "# https://www.apache.org/licenses/LICENSE-2.0\n",
        "#\n",
        "# Unless required by applicable law or agreed to in writing, software\n",
        "# distributed under the License is distributed on an \"AS IS\" BASIS,\n",
        "# WITHOUT WARRANTIES OR CONDITIONS OF ANY KIND, either express or implied.\n",
        "# See the License for the specific language governing permissions and\n",
        "# limitations under the License."
      ],
      "metadata": {
        "cellView": "form",
        "id": "tzrQbvGLncT-"
      },
      "execution_count": null,
      "outputs": []
    },
    {
      "cell_type": "code",
      "metadata": {
        "cellView": "form",
        "id": "vasWnqRgy1H4"
      },
      "source": [
        "#@title MIT License\n",
        "#\n",
        "# Copyright (c) 2017 François Chollet\n",
        "#\n",
        "# Permission is hereby granted, free of charge, to any person obtaining a\n",
        "# copy of this software and associated documentation files (the \"Software\"),\n",
        "# to deal in the Software without restriction, including without limitation\n",
        "# the rights to use, copy, modify, merge, publish, distribute, sublicense,\n",
        "# and/or sell copies of the Software, and to permit persons to whom the\n",
        "# Software is furnished to do so, subject to the following conditions:\n",
        "#\n",
        "# The above copyright notice and this permission notice shall be included in\n",
        "# all copies or substantial portions of the Software.\n",
        "#\n",
        "# THE SOFTWARE IS PROVIDED \"AS IS\", WITHOUT WARRANTY OF ANY KIND, EXPRESS OR\n",
        "# IMPLIED, INCLUDING BUT NOT LIMITED TO THE WARRANTIES OF MERCHANTABILITY,\n",
        "# FITNESS FOR A PARTICULAR PURPOSE AND NONINFRINGEMENT. IN NO EVENT SHALL\n",
        "# THE AUTHORS OR COPYRIGHT HOLDERS BE LIABLE FOR ANY CLAIM, DAMAGES OR OTHER\n",
        "# LIABILITY, WHETHER IN AN ACTION OF CONTRACT, TORT OR OTHERWISE, ARISING\n",
        "# FROM, OUT OF OR IN CONNECTION WITH THE SOFTWARE OR THE USE OR OTHER\n",
        "# DEALINGS IN THE SOFTWARE."
      ],
      "execution_count": null,
      "outputs": []
    },
    {
      "cell_type": "markdown",
      "source": [
        "#Welcome to Ivan's Machine Learning Workshop\n",
        "\n",
        "##Module 1: Image Classification\n",
        "\n"
      ],
      "metadata": {
        "id": "groxG6-3nD_k"
      }
    },
    {
      "cell_type": "markdown",
      "source": [
        "### Step 1: Import the required tensor flow modules"
      ],
      "metadata": {
        "id": "WuxR5zkWnrhd"
      }
    },
    {
      "cell_type": "code",
      "execution_count": null,
      "metadata": {
        "id": "JJTGbLEanA_v"
      },
      "outputs": [],
      "source": [
        "# TensorFlow and tf.keras\n",
        "import tensorflow as tf #main tensorflow library\n",
        "import numpy as np #for math\n",
        "import matplotlib.pyplot as plt #for graphs\n",
        "\n",
        "print(tf.__version__) #show the tensorflow version"
      ]
    },
    {
      "cell_type": "markdown",
      "source": [
        "###Step 2: Import the image data\n",
        "\n",
        "The data can be obtained here: https://www.tensorflow.org/datasets/catalog/overview\n"
      ],
      "metadata": {
        "id": "qw7gveT8n7lj"
      }
    },
    {
      "cell_type": "code",
      "source": [
        "fashion_mnist = tf.keras.datasets.fashion_mnist\n",
        "(train_images, train_labels), (test_images, test_labels) = fashion_mnist.load_data()"
      ],
      "metadata": {
        "id": "u98SNXh_oBVh"
      },
      "execution_count": null,
      "outputs": []
    },
    {
      "cell_type": "markdown",
      "source": [
        "###Step 3: Normalize the image data\n",
        "\n",
        "Usually, image data comes in grayscale from 0 to 255. Sometimes, it could be an RGB colour too. We will need to normalize the data before feeding it into the Neural Network, by changing it to a number between 0 and 1"
      ],
      "metadata": {
        "id": "dBzCg0EWowgB"
      }
    },
    {
      "cell_type": "code",
      "source": [
        "plt.figure()\n",
        "plt.title(\"Before Normalize\")\n",
        "plt.imshow(train_images[0])\n",
        "plt.colorbar()\n",
        "plt.grid(False)\n",
        "plt.show()\n",
        "\n",
        "train_images = train_images / 255.0\n",
        "test_images = test_images / 255.0\n",
        "\n",
        "plt.figure()\n",
        "plt.title(\"After Normalize\")\n",
        "plt.imshow(train_images[0])\n",
        "plt.colorbar()\n",
        "plt.grid(False)\n",
        "plt.show()"
      ],
      "metadata": {
        "id": "VSby4U3Mp0sQ"
      },
      "execution_count": null,
      "outputs": []
    },
    {
      "cell_type": "markdown",
      "source": [
        "###Step 4: Built the network"
      ],
      "metadata": {
        "id": "wBrE-u1dqSAh"
      }
    },
    {
      "cell_type": "code",
      "source": [
        "model = tf.keras.Sequential([\n",
        "    tf.keras.layers.Flatten(input_shape=(28, 28)), #Flatten the image to 1D, input shape is 28x28, so output is array of 784 numbers\n",
        "    tf.keras.layers.Dense(128, activation='relu'), #First layer 128 neurons\n",
        "    tf.keras.layers.Dense(10), #Last layer must have same number of neuron as categories\n",
        "    tf.keras.layers.Softmax() #Normalize the output probabilities\n",
        "])"
      ],
      "metadata": {
        "id": "MJPZrTQKqjLf"
      },
      "execution_count": null,
      "outputs": []
    },
    {
      "cell_type": "markdown",
      "source": [
        "###Step 5: Compile the model\n",
        "\n",
        "Here you specify the \"settings\" for the training process, i.e. which optimizer to use, what's the loss function and what metrics to optimize for...\n",
        "\n",
        "Here, \"adam\" was used as the optimizer. For more info, read this: https://machinelearningmastery.com/adam-optimization-algorithm-for-deep-learning/ \n",
        "\n",
        "For loss function, we use the cross-entropy loss... Basically, the loss function is the value we want to \"minimize\". The setting for *from_logits* basically tells the model that the value of loss need not be normalized. \n"
      ],
      "metadata": {
        "id": "iZjaNiavq8GI"
      }
    },
    {
      "cell_type": "code",
      "source": [
        "model.compile(optimizer='adam',\n",
        "              loss=tf.keras.losses.SparseCategoricalCrossentropy(from_logits=True),\n",
        "              metrics=['accuracy'])"
      ],
      "metadata": {
        "id": "DRAImAQGrC4-"
      },
      "execution_count": null,
      "outputs": []
    },
    {
      "cell_type": "markdown",
      "source": [
        "###Step 6: Start training!"
      ],
      "metadata": {
        "id": "HH1Hnq4kp0PA"
      }
    },
    {
      "cell_type": "code",
      "source": [
        "model.fit(train_images, train_labels, epochs=10)"
      ],
      "metadata": {
        "id": "iXXkpnQEsy4s"
      },
      "execution_count": null,
      "outputs": []
    },
    {
      "cell_type": "markdown",
      "source": [
        "### Step 7: Evaluate the model\n"
      ],
      "metadata": {
        "id": "Y9bJ6YhttEYj"
      }
    },
    {
      "cell_type": "code",
      "source": [
        "test_loss, test_acc = model.evaluate(test_images,  test_labels, verbose=2)\n",
        "print('\\nTest accuracy:', test_acc)"
      ],
      "metadata": {
        "id": "jQtUJ4_jtJV5"
      },
      "execution_count": null,
      "outputs": []
    },
    {
      "cell_type": "markdown",
      "source": [
        "### Step 8: Test the model!"
      ],
      "metadata": {
        "id": "-ln_xyIatZ3u"
      }
    },
    {
      "cell_type": "code",
      "source": [
        "predictions = model.predict(test_images)\n",
        "#Set i to a certain number to see check\n",
        "i = 66\n",
        "\n",
        "#Print out to see\n",
        "print(predictions[i])"
      ],
      "metadata": {
        "id": "kmFAafMwtgA-"
      },
      "execution_count": null,
      "outputs": []
    },
    {
      "cell_type": "code",
      "source": [
        "#Plots the graph\n",
        "fig, ax = plt.subplots(1,1) \n",
        "\n",
        "ax.bar(range(10), predictions[i], color=\"#777777\")\n",
        "\n",
        "class_names = ['T-shirt/top', 'Trouser', 'Pullover', 'Dress', 'Coat',\n",
        "               'Sandal', 'Shirt','Sneaker', 'Bag', 'Ankle boot']\n",
        "plt.xticks(range(10))\n",
        "ax.set_xticklabels(class_names, rotation='vertical', fontsize=18)\n",
        "plt.show()"
      ],
      "metadata": {
        "id": "tu7PbBnrvASp"
      },
      "execution_count": null,
      "outputs": []
    },
    {
      "cell_type": "code",
      "source": [
        "#Show the image\n",
        "plt.imshow(test_images[i])"
      ],
      "metadata": {
        "id": "OtXU6gefvC_T"
      },
      "execution_count": null,
      "outputs": []
    }
  ]
}